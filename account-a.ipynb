{
 "cells": [
  {
   "cell_type": "markdown",
   "metadata": {},
   "source": [
    "# Inside Account A"
   ]
  },
  {
   "cell_type": "markdown",
   "metadata": {},
   "source": [
    "### Imports "
   ]
  },
  {
   "cell_type": "code",
   "execution_count": null,
   "metadata": {},
   "outputs": [],
   "source": [
    "import pandas as pd\n",
    "import logging\n",
    "import boto3\n",
    "import json\n",
    "import time"
   ]
  },
  {
   "cell_type": "markdown",
   "metadata": {},
   "source": [
    "### Assume cross account role from account B using STS\n",
    "AWS Security Token Service (STS) `AssumeRole` API call. This call returns a set of temporary credentials that you can use to create any service clients. When using these clients, your function has permissions conferred to it by the assumed role, and acts as if it belongs to account B. For more information, see `assume_role` in the AWS SDK for Python (Boto 3) documentation."
   ]
  },
  {
   "cell_type": "code",
   "execution_count": null,
   "metadata": {},
   "outputs": [],
   "source": [
    "sts = boto3.client('sts')"
   ]
  },
  {
   "cell_type": "code",
   "execution_count": null,
   "metadata": {},
   "outputs": [],
   "source": [
    "# Assume role created in account B\n",
    "CROSS_ACCOUNT_ASSUME_ROLE = 'arn:aws:iam::<ACCOUNT B ID>:role/cross-account-assume-role'"
   ]
  },
  {
   "cell_type": "code",
   "execution_count": null,
   "metadata": {},
   "outputs": [],
   "source": [
    "account_b = sts.assume_role(RoleArn=CROSS_ACCOUNT_ASSUME_ROLE, \n",
    "                            RoleSessionName='FeatureStoreCrossAccountAccessDemo'\n",
    "                           )"
   ]
  },
  {
   "cell_type": "code",
   "execution_count": null,
   "metadata": {},
   "outputs": [],
   "source": [
    "access_key_id = account_b['Credentials']['AccessKeyId']\n",
    "secret_access_key = account_b['Credentials']['SecretAccessKey']\n",
    "session_token = account_b['Credentials']['SessionToken']"
   ]
  },
  {
   "cell_type": "markdown",
   "metadata": {},
   "source": [
    "#### Setup sessions and clients\n",
    "Create SageMaker client using the assumed role temporary credentials."
   ]
  },
  {
   "cell_type": "code",
   "execution_count": null,
   "metadata": {},
   "outputs": [],
   "source": [
    "REGION = 'us-east-1'\n",
    "boto_session = boto3.Session(region_name=REGION)"
   ]
  },
  {
   "cell_type": "code",
   "execution_count": null,
   "metadata": {},
   "outputs": [],
   "source": [
    "sagemaker_client = boto3.client('sagemaker', \n",
    "                                 aws_access_key_id=access_key_id,\n",
    "                                 aws_secret_access_key=secret_access_key,\n",
    "                                 aws_session_token=session_token\n",
    "                               )"
   ]
  },
  {
   "cell_type": "code",
   "execution_count": null,
   "metadata": {},
   "outputs": [],
   "source": [
    "sagemaker_featurestore_runtime_client = boto3.client(service_name='sagemaker-featurestore-runtime', \n",
    "                                                     aws_access_key_id=access_key_id,\n",
    "                                                     aws_secret_access_key=secret_access_key,\n",
    "                                                     aws_session_token=session_token\n",
    "                                                    )"
   ]
  },
  {
   "cell_type": "code",
   "execution_count": null,
   "metadata": {},
   "outputs": [],
   "source": [
    "s3_client = boto3.client(service_name='s3',\n",
    "                         aws_access_key_id=access_key_id,\n",
    "                         aws_secret_access_key=secret_access_key,\n",
    "                         aws_session_token=session_token\n",
    "                        )"
   ]
  },
  {
   "cell_type": "code",
   "execution_count": null,
   "metadata": {},
   "outputs": [],
   "source": [
    "athena_client = boto3.client(service_name='athena',\n",
    "                             aws_access_key_id=access_key_id,\n",
    "                             aws_secret_access_key=secret_access_key,\n",
    "                             aws_session_token=session_token\n",
    "                            )"
   ]
  },
  {
   "cell_type": "markdown",
   "metadata": {},
   "source": [
    "#### Setup Logger"
   ]
  },
  {
   "cell_type": "code",
   "execution_count": null,
   "metadata": {},
   "outputs": [],
   "source": [
    "logger = logging.getLogger('sagemaker')\n",
    "logger.setLevel(logging.INFO)\n",
    "logger.addHandler(logging.StreamHandler())"
   ]
  },
  {
   "cell_type": "code",
   "execution_count": null,
   "metadata": {},
   "outputs": [],
   "source": [
    "logger.info(f'[Using Boto3 version: {boto3.__version__}]')"
   ]
  },
  {
   "cell_type": "markdown",
   "metadata": {},
   "source": [
    "### Create Feature Group in Account B\n",
    "Let us create a feature group in account B to store a few aggregated features for a credit card. "
   ]
  },
  {
   "cell_type": "code",
   "execution_count": null,
   "metadata": {},
   "outputs": [],
   "source": [
    "schema = json.loads(open('./schema.json').read())\n",
    "schema"
   ]
  },
  {
   "cell_type": "code",
   "execution_count": null,
   "metadata": {},
   "outputs": [],
   "source": [
    "def schema_to_defs(filename):\n",
    "    schema = json.loads(open(filename).read())\n",
    "    \n",
    "    feature_definitions = []\n",
    "    \n",
    "    for col in schema['features']:\n",
    "        feature = {'FeatureName': col['name']}\n",
    "        if col['type'] == 'double':\n",
    "            feature['FeatureType'] = 'Fractional'\n",
    "        elif col['type'] == 'bigint':\n",
    "            feature['FeatureType'] = 'Integral'\n",
    "        else:\n",
    "            feature['FeatureType'] = 'String'\n",
    "        feature_definitions.append(feature)\n",
    "\n",
    "    return feature_definitions, schema['record_identifier_feature_name'], schema['event_time_feature_name']"
   ]
  },
  {
   "cell_type": "code",
   "execution_count": null,
   "metadata": {},
   "outputs": [],
   "source": [
    "feature_definitions, record_identifier_feature_name, event_time_feature_name = schema_to_defs('./schema.json')"
   ]
  },
  {
   "cell_type": "code",
   "execution_count": null,
   "metadata": {},
   "outputs": [],
   "source": [
    "feature_definitions"
   ]
  },
  {
   "cell_type": "code",
   "execution_count": null,
   "metadata": {},
   "outputs": [],
   "source": [
    "OFFLINE_STORE_BUCKET = '<NAME OF OFFLINE STORE BUCKET IN ACCOUNT B>'\n",
    "FEATURE_GROUP_NAME = 'credit-card-aggregated-features'"
   ]
  },
  {
   "cell_type": "code",
   "execution_count": null,
   "metadata": {},
   "outputs": [],
   "source": [
    "offline_config = {'OfflineStoreConfig': {'S3StorageConfig': {'S3Uri': f's3://{OFFLINE_STORE_BUCKET}'}}}\n",
    "# offline_config = {} use this if needed to write ONLY to the Online store"
   ]
  },
  {
   "cell_type": "code",
   "execution_count": null,
   "metadata": {},
   "outputs": [],
   "source": [
    "sagemaker_client.delete_feature_group(FeatureGroupName=FEATURE_GROUP_NAME)"
   ]
  },
  {
   "cell_type": "code",
   "execution_count": null,
   "metadata": {},
   "outputs": [],
   "source": [
    "sagemaker_client.create_feature_group(FeatureGroupName=FEATURE_GROUP_NAME,\n",
    "                                    RecordIdentifierFeatureName=record_identifier_feature_name,\n",
    "                                    EventTimeFeatureName=event_time_feature_name,\n",
    "                                    FeatureDefinitions=feature_definitions,\n",
    "                                    Description=schema['description'],\n",
    "                                    Tags=schema['tags'],\n",
    "                                    OnlineStoreConfig={'EnableOnlineStore': True},\n",
    "                                    RoleArn=CROSS_ACCOUNT_ASSUME_ROLE,\n",
    "                                    **offline_config)"
   ]
  },
  {
   "cell_type": "code",
   "execution_count": null,
   "metadata": {},
   "outputs": [],
   "source": [
    "sagemaker_client.describe_feature_group(FeatureGroupName=FEATURE_GROUP_NAME)"
   ]
  },
  {
   "cell_type": "markdown",
   "metadata": {},
   "source": [
    "#### Write sample features (records) to the created feature group in account B"
   ]
  },
  {
   "cell_type": "code",
   "execution_count": null,
   "metadata": {},
   "outputs": [],
   "source": [
    "rows = [\n",
    "    ['7822756498736827', '24', '34.32'],\n",
    "    ['3782749218642874', '36', '65.77'],\n",
    "    ['7713974627482452', '4', '342.14'],\n",
    "    ['1030637826379113', '23', '63.19'],\n",
    "    ['5632839778232447', '73', '5.32']\n",
    "]"
   ]
  },
  {
   "cell_type": "code",
   "execution_count": null,
   "metadata": {},
   "outputs": [],
   "source": [
    "records = []\n",
    "for row in rows:\n",
    "    cc_num, num_trans_last_1w, avg_amt_last_1w = row\n",
    "    record = []\n",
    "    record.append({'ValueAsString': cc_num, 'FeatureName': 'cc_num'})\n",
    "    record.append({'ValueAsString': num_trans_last_1w, 'FeatureName': 'num_trans_last_1w'})\n",
    "    record.append({'ValueAsString': avg_amt_last_1w, 'FeatureName': 'avg_amt_last_1w'})\n",
    "    event_time_feature = {'ValueAsString': str(int(round(time.time()))), 'FeatureName': 'trans_time'}\n",
    "    record.append(event_time_feature)\n",
    "    records.append(record)"
   ]
  },
  {
   "cell_type": "code",
   "execution_count": null,
   "metadata": {},
   "outputs": [],
   "source": [
    "for record in records:\n",
    "    response = sagemaker_featurestore_runtime_client.put_record(FeatureGroupName=FEATURE_GROUP_NAME, \n",
    "                                                                Record=record\n",
    "                                                               )\n",
    "    print(response['ResponseMetadata']['HTTPStatusCode'])"
   ]
  },
  {
   "cell_type": "markdown",
   "metadata": {},
   "source": [
    "#### Verify if we can retrieve features from the feature group in account B"
   ]
  },
  {
   "cell_type": "code",
   "execution_count": null,
   "metadata": {},
   "outputs": [],
   "source": [
    "response = sagemaker_featurestore_runtime_client.get_record(FeatureGroupName=FEATURE_GROUP_NAME, \n",
    "                                                            RecordIdentifierValueAsString='1030637826379113'\n",
    "                                                           )\n",
    "response"
   ]
  },
  {
   "cell_type": "markdown",
   "metadata": {},
   "source": [
    "### Get records from Account B's Offline store (S3 bucket)\n",
    "Now let's wait for the data to appear in our offline store before moving forward to creating a dataset. This will take approximately 5 minutes."
   ]
  },
  {
   "cell_type": "code",
   "execution_count": null,
   "metadata": {},
   "outputs": [],
   "source": [
    "ACCOUNT_ID = '<ACCOUNT B ID>'"
   ]
  },
  {
   "cell_type": "code",
   "execution_count": null,
   "metadata": {},
   "outputs": [],
   "source": [
    "feature_group_s3_prefix = f'{ACCOUNT_ID}/sagemaker/{REGION}/offline-store/{FEATURE_GROUP_NAME}/data'\n",
    "feature_group_s3_prefix"
   ]
  },
  {
   "cell_type": "code",
   "execution_count": null,
   "metadata": {},
   "outputs": [],
   "source": [
    "offline_store_contents = None\n",
    "while offline_store_contents is None:\n",
    "    objects = s3_client.list_objects(Bucket=OFFLINE_STORE_BUCKET, Prefix=feature_group_s3_prefix)\n",
    "    if 'Contents' in objects and len(objects['Contents']) > 1:\n",
    "        logger.info('[Features are available in Offline Store!]')\n",
    "        offline_store_contents = objects['Contents']\n",
    "    else:\n",
    "        logger.info('[Waiting for data in Offline Store...]')\n",
    "        time.sleep(60)"
   ]
  },
  {
   "cell_type": "markdown",
   "metadata": {},
   "source": [
    "### Use Athena to query features from the feature group in account B from account A"
   ]
  },
  {
   "cell_type": "code",
   "execution_count": null,
   "metadata": {},
   "outputs": [],
   "source": [
    "feature_group = sagemaker_client.describe_feature_group(FeatureGroupName=FEATURE_GROUP_NAME)"
   ]
  },
  {
   "cell_type": "code",
   "execution_count": null,
   "metadata": {},
   "outputs": [],
   "source": [
    "glue_table_name = feature_group['OfflineStoreConfig']['DataCatalogConfig']['TableName']"
   ]
  },
  {
   "cell_type": "code",
   "execution_count": null,
   "metadata": {},
   "outputs": [],
   "source": [
    "query_string = f'SELECT * FROM \"{glue_table_name}\"'\n",
    "query_string"
   ]
  },
  {
   "cell_type": "markdown",
   "metadata": {},
   "source": [
    "#### Run Athena query in account B and save results back to a bucket in account A"
   ]
  },
  {
   "cell_type": "code",
   "execution_count": null,
   "metadata": {},
   "outputs": [],
   "source": [
    "ATHENA_RESULTS_BUCKET = '<NAME OF ATHENA QUERY RESULTS BUCKET IN ACCOUNT A>'"
   ]
  },
  {
   "cell_type": "code",
   "execution_count": null,
   "metadata": {},
   "outputs": [],
   "source": [
    "response = athena_client.start_query_execution(\n",
    "                QueryString=query_string,\n",
    "                QueryExecutionContext={\n",
    "                    'Database': 'sagemaker_featurestore',\n",
    "                    'Catalog': 'AwsDataCatalog'\n",
    "                },\n",
    "                ResultConfiguration={\n",
    "                    'OutputLocation': f's3://{ATHENA_RESULTS_BUCKET}/query_results/model-1',\n",
    "                }\n",
    "            )\n",
    "response"
   ]
  },
  {
   "cell_type": "code",
   "execution_count": null,
   "metadata": {},
   "outputs": [],
   "source": [
    "query_results = athena_client.get_query_results(QueryExecutionId=response['QueryExecutionId'],\n",
    "                                                MaxResults=100\n",
    "                                               )"
   ]
  },
  {
   "cell_type": "code",
   "execution_count": null,
   "metadata": {},
   "outputs": [],
   "source": [
    "query_results['ResultSet']['Rows']"
   ]
  },
  {
   "cell_type": "markdown",
   "metadata": {},
   "source": [
    "### Grant account A access to Athena results (Important)\n",
    "The objects in Athena query results bucket (account A) are owned by account B. To allow this notebook or account A to access these objects, we would have to grant account A permissions via ACL. "
   ]
  },
  {
   "cell_type": "markdown",
   "metadata": {},
   "source": [
    "Get canonical ID of account A"
   ]
  },
  {
   "cell_type": "code",
   "execution_count": null,
   "metadata": {},
   "outputs": [],
   "source": [
    "# Note: the client below does not use any temp credentials from the assumed role,\n",
    "# hence points to this account (account A)\n",
    "s3 = boto3.client('s3')\n",
    "can_a = s3.list_buckets()['Owner']['ID']\n",
    "can_a"
   ]
  },
  {
   "cell_type": "markdown",
   "metadata": {},
   "source": [
    "Get canonical ID of account B"
   ]
  },
  {
   "cell_type": "code",
   "execution_count": null,
   "metadata": {},
   "outputs": [],
   "source": [
    "# Note: the client below was the one created using temp credentials from the assumed role, \n",
    "# hence it points to account B\n",
    "can_b = s3_client.list_buckets()['Owner']['ID'] \n",
    "can_b"
   ]
  },
  {
   "cell_type": "code",
   "execution_count": null,
   "metadata": {},
   "outputs": [],
   "source": [
    "for s3_object in s3_client.list_objects(Bucket=ATHENA_RESULTS_BUCKET)['Contents']:\n",
    "    key = s3_object['Key']\n",
    "    print(f'Bucket = {ATHENA_RESULTS_BUCKET} | Key = {key}')\n",
    "    response = s3_client.put_object_acl(\n",
    "    AccessControlPolicy={\n",
    "        \"Grants\": [\n",
    "            {\n",
    "                'Grantee': {\n",
    "                    'ID': can_a,\n",
    "                    'Type': 'CanonicalUser'\n",
    "                },\n",
    "                'Permission': 'FULL_CONTROL'\n",
    "            }\n",
    "        ],\n",
    "        'Owner': {\n",
    "            'ID': can_b\n",
    "        }\n",
    "    },\n",
    "    Bucket=ATHENA_RESULTS_BUCKET,\n",
    "    Key=key,\n",
    "    )"
   ]
  },
  {
   "cell_type": "markdown",
   "metadata": {},
   "source": [
    "#### Load Athena query result csv into a Pandas dataframe for model training"
   ]
  },
  {
   "cell_type": "code",
   "execution_count": null,
   "metadata": {},
   "outputs": [],
   "source": [
    "df = pd.read_csv('<PATH TO ATHENA QUERY RESULT CSV (SEE PREVIOUS CELLS)>')"
   ]
  },
  {
   "cell_type": "code",
   "execution_count": null,
   "metadata": {},
   "outputs": [],
   "source": [
    "df.head()"
   ]
  },
  {
   "cell_type": "code",
   "execution_count": null,
   "metadata": {},
   "outputs": [],
   "source": []
  }
 ],
 "metadata": {
  "kernelspec": {
   "display_name": "conda_python3",
   "language": "python",
   "name": "conda_python3"
  },
  "language_info": {
   "codemirror_mode": {
    "name": "ipython",
    "version": 3
   },
   "file_extension": ".py",
   "mimetype": "text/x-python",
   "name": "python",
   "nbconvert_exporter": "python",
   "pygments_lexer": "ipython3",
   "version": "3.6.10"
  }
 },
 "nbformat": 4,
 "nbformat_minor": 4
}
